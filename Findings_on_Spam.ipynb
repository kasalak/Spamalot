{
 "cells": [
  {
   "cell_type": "markdown",
   "metadata": {},
   "source": [
    "import glob\n",
    "\n",
    "def read_spam(directory):\n",
    "    files = glob.glob('textfile')\n",
    "    Look at Ipython notebbok from class to do this HW."
   ]
  }
 ],
 "metadata": {
  "kernelspec": {
   "display_name": "Python 3",
   "language": "python",
   "name": "python3"
  },
  "language_info": {
   "codemirror_mode": {
    "name": "ipython",
    "version": 3
   },
   "file_extension": ".py",
   "mimetype": "text/x-python",
   "name": "python",
   "nbconvert_exporter": "python",
   "pygments_lexer": "ipython3",
   "version": "3.4.3"
  }
 },
 "nbformat": 4,
 "nbformat_minor": 0
}
